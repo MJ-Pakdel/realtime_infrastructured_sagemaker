{
 "cells": [
  {
   "cell_type": "markdown",
   "metadata": {},
   "source": [
    "curl -X POST https://9jgdg7ysyh.execute-api.us-east-1.amazonaws.com/prod/ \\\n",
    "     -H \"Content-Type: application/json\" \\\n",
    "     -d '{\"instances\":[[0.5,-1.2,3.3,0.0,2.1,-0.7,4.4,5.5]]}'"
   ]
  },
  {
   "cell_type": "code",
   "execution_count": 7,
   "metadata": {},
   "outputs": [],
   "source": [
    "#!/usr/bin/env python3\n",
    "import subprocess\n",
    "import json\n",
    "import requests\n",
    "import time\n",
    "import numpy as np\n",
    "import sys\n",
    "\n",
    "def get_api_url():\n",
    "    \"\"\"Read the base invoke URL from Terraform outputs.\"\"\"\n",
    "    try:\n",
    "        raw = subprocess.check_output(\n",
    "            [\"terraform\", \"output\", \"-raw\", \"api_gateway_url\"],\n",
    "            stderr=subprocess.STDOUT\n",
    "        )\n",
    "    except subprocess.CalledProcessError as e:\n",
    "        print(\"❌ Failed to read Terraform output:\", e.output.decode(), file=sys.stderr)\n",
    "        sys.exit(1)\n",
    "    return raw.decode().strip().rstrip(\"/\") + \"/\"\n",
    "\n",
    "def measure_latency(url, features, n_requests=500, warmup=50):\n",
    "    payload = {\"features\": features}\n",
    "    # 1) warm-up phase (no timing)\n",
    "    for _ in range(warmup):\n",
    "        requests.post(url, json=payload)\n",
    "\n",
    "    # 2) actual measurement\n",
    "    latencies = []\n",
    "    for _ in range(n_requests):\n",
    "        start = time.perf_counter()\n",
    "        resp  = requests.post(url, json=payload)\n",
    "        elapsed_ms = (time.perf_counter() - start) * 1000\n",
    "        latencies.append(elapsed_ms)\n",
    "        if not resp.ok:\n",
    "            print(\"Error:\", resp.status_code, resp.text)\n",
    "            break\n",
    "\n",
    "    for pct in (50, 90, 95, 99):\n",
    "        print(f\"P{pct} latency: {np.percentile(latencies, pct):.2f} ms\")"
   ]
  },
  {
   "cell_type": "code",
   "execution_count": 8,
   "metadata": {},
   "outputs": [
    {
     "name": "stdout",
     "output_type": "stream",
     "text": [
      "Testing API Gateway URL: https://lnv66n9evf.execute-api.us-east-1.amazonaws.com/\n",
      "P50 latency: 331.56 ms\n",
      "P90 latency: 344.77 ms\n",
      "P95 latency: 350.75 ms\n",
      "P99 latency: 414.45 ms\n"
     ]
    }
   ],
   "source": [
    "\n",
    "\n",
    "if __name__ == \"__main__\":\n",
    "    api_url = get_api_url()\n",
    "    print(\"Testing API Gateway URL:\", api_url)\n",
    "\n",
    "    # match your real input shape\n",
    "    test_features = [0.5, -1.2, 3.3, 0.0, 2.1, -0.7, 4.4, 5.5]\n",
    "    measure_latency(api_url, test_features, n_requests=100)\n"
   ]
  },
  {
   "cell_type": "code",
   "execution_count": null,
   "metadata": {},
   "outputs": [],
   "source": []
  }
 ],
 "metadata": {
  "kernelspec": {
   "display_name": "llm",
   "language": "python",
   "name": "python3"
  },
  "language_info": {
   "codemirror_mode": {
    "name": "ipython",
    "version": 3
   },
   "file_extension": ".py",
   "mimetype": "text/x-python",
   "name": "python",
   "nbconvert_exporter": "python",
   "pygments_lexer": "ipython3",
   "version": "3.12.9"
  }
 },
 "nbformat": 4,
 "nbformat_minor": 2
}
