{
 "cells": [
  {
   "cell_type": "code",
   "execution_count": 1,
   "id": "c2a869a6",
   "metadata": {},
   "outputs": [
    {
     "name": "stdout",
     "output_type": "stream",
     "text": [
      "Defaulting to user installation because normal site-packages is not writeable\n",
      "Collecting numpy==1.24.1\n",
      "  Downloading numpy-1.24.1-cp39-cp39-macosx_11_0_arm64.whl (13.9 MB)\n",
      "\u001b[K     |████████████████████████████████| 13.9 MB 2.7 MB/s eta 0:00:01\n",
      "\u001b[?25hCollecting scipy==1.8.0\n",
      "  Downloading scipy-1.8.0-cp39-cp39-macosx_12_0_arm64.whl (28.7 MB)\n",
      "\u001b[K     |████████████████████████████████| 28.7 MB 32.4 MB/s eta 0:00:01\n",
      "\u001b[?25hRequirement already satisfied: scikit-learn==1.2.1 in /Users/mj.pakdel/Library/Python/3.9/lib/python/site-packages (from -r requirements.txt (line 5)) (1.2.1)\n",
      "Requirement already satisfied: joblib==1.3.2 in /Users/mj.pakdel/Library/Python/3.9/lib/python/site-packages (from -r requirements.txt (line 6)) (1.3.2)\n",
      "Requirement already satisfied: threadpoolctl<4,>=3.0 in /Users/mj.pakdel/Library/Python/3.9/lib/python/site-packages (from -r requirements.txt (line 7)) (3.6.0)\n",
      "Installing collected packages: numpy, scipy\n",
      "  Attempting uninstall: numpy\n",
      "    Found existing installation: numpy 1.23.5\n",
      "    Uninstalling numpy-1.23.5:\n",
      "      Successfully uninstalled numpy-1.23.5\n",
      "  Attempting uninstall: scipy\n",
      "    Found existing installation: scipy 1.10.1\n",
      "    Uninstalling scipy-1.10.1:\n",
      "      Successfully uninstalled scipy-1.10.1\n",
      "Successfully installed numpy-1.24.1 scipy-1.8.0\n",
      "\u001b[33mWARNING: You are using pip version 21.2.4; however, version 25.1.1 is available.\n",
      "You should consider upgrading via the '/Library/Developer/CommandLineTools/usr/bin/python3 -m pip install --upgrade pip' command.\u001b[0m\n",
      "Note: you may need to restart the kernel to use updated packages.\n"
     ]
    }
   ],
   "source": [
    "pip install -r requirements.txt"
   ]
  },
  {
   "cell_type": "code",
   "execution_count": 2,
   "id": "14d22133",
   "metadata": {},
   "outputs": [
    {
     "name": "stdout",
     "output_type": "stream",
     "text": [
      "numpy version: 1.24.1\n",
      "scipy version: 1.8.0\n",
      "scikit-learn version: 1.2.1\n"
     ]
    }
   ],
   "source": [
    "import numpy as np\n",
    "import scipy\n",
    "import sklearn\n",
    "print(f\"numpy version: {np.__version__}\")\n",
    "print(f\"scipy version: {scipy.__version__}\")\n",
    "print(f\"scikit-learn version: {sklearn.__version__}\")"
   ]
  },
  {
   "cell_type": "code",
   "execution_count": 3,
   "id": "85623ad7",
   "metadata": {},
   "outputs": [
    {
     "name": "stdout",
     "output_type": "stream",
     "text": [
      "✅  model.tar.gz ready—contains model.joblib, inference.py, requirements.txt\n"
     ]
    }
   ],
   "source": [
    "# train_model.py\n",
    "from sklearn.linear_model import LinearRegression\n",
    "from sklearn.datasets import make_regression\n",
    "import joblib, tarfile, os\n",
    "\n",
    "# 1) Generate fake data\n",
    "X, y = make_regression(n_samples=20_640, n_features=8, noise=0.1)\n",
    "\n",
    "# 2) Train\n",
    "model = LinearRegression().fit(X, y)\n",
    "\n",
    "# 3) Save the artefact\n",
    "model_dir = \"model_artifact\"\n",
    "os.makedirs(model_dir, exist_ok=True)\n",
    "joblib.dump(model, os.path.join(model_dir, \"model.joblib\"))\n",
    "\n",
    "# 4) Bundle everything SageMaker needs\n",
    "with tarfile.open(\"model.tar.gz\", \"w:gz\") as tar:\n",
    "    tar.add(os.path.join(model_dir, \"model.joblib\"), arcname=\"model.joblib\")\n",
    "    tar.add(\"inference.py\",               arcname=\"inference.py\")\n",
    "    tar.add(\"requirements.txt\",           arcname=\"requirements.txt\")   # ← add this line\n",
    "\n",
    "print(\"✅  model.tar.gz ready—contains model.joblib, inference.py, requirements.txt\")\n"
   ]
  },
  {
   "cell_type": "code",
   "execution_count": null,
   "id": "af55c93a",
   "metadata": {},
   "outputs": [],
   "source": []
  }
 ],
 "metadata": {
  "kernelspec": {
   "display_name": "Python 3",
   "language": "python",
   "name": "python3"
  },
  "language_info": {
   "codemirror_mode": {
    "name": "ipython",
    "version": 3
   },
   "file_extension": ".py",
   "mimetype": "text/x-python",
   "name": "python",
   "nbconvert_exporter": "python",
   "pygments_lexer": "ipython3",
   "version": "3.9.6"
  }
 },
 "nbformat": 4,
 "nbformat_minor": 5
}
