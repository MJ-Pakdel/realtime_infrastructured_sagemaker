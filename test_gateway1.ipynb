{
 "cells": [
  {
   "cell_type": "code",
   "execution_count": 3,
   "metadata": {},
   "outputs": [
    {
     "name": "stdout",
     "output_type": "stream",
     "text": [
      "Testing API Gateway: https://wsvo0n5k16.execute-api.us-east-1.amazonaws.com/ with user_id: 7\n",
      "P10: 130.29 ms\n",
      "P50: 136.89 ms\n",
      "P90: 148.85 ms\n",
      "P95: 158.02 ms\n",
      "P99: 167.48 ms\n"
     ]
    }
   ],
   "source": [
    "#!/usr/bin/env python3\n",
    "import subprocess, sys, requests, time, numpy as np, os, argparse\n",
    "\n",
    "# ── discover API Gateway URL (CLI → env → terraform) ────────────────\n",
    "def get_api_url():\n",
    "    p = argparse.ArgumentParser(description=\"Latency test for /predict\")\n",
    "    p.add_argument(\"--url\", help=\"Full invoke URL (overrides everything)\")\n",
    "    p.add_argument(\"--user-id\", type=int, default=7,\n",
    "                   help=\"User ID to query (default: 7)\")\n",
    "    args, _ = p.parse_known_args()\n",
    "\n",
    "    if args.url:                                # 1. CLI\n",
    "        base = args.url\n",
    "    elif (u := os.getenv(\"API_GATEWAY_URL\")):   # 2. env var\n",
    "        base = u\n",
    "    else:                                       # 3. terraform output\n",
    "        raw = subprocess.check_output(\n",
    "            [\"terraform\", \"output\", \"-raw\", \"api_gateway_url\"],\n",
    "            stderr=subprocess.STDOUT,\n",
    "        )\n",
    "        base = raw.decode()\n",
    "\n",
    "    return base.rstrip(\"/\") + \"/\", args.user_id\n",
    "\n",
    "# ── latency helper — now sends {\"user_id\": N} ───────────────────────\n",
    "def measure_latency(url, user_id, n_requests=100, warmup=50):\n",
    "    session = requests.Session()            # keep-one TCP/TLS\n",
    "    payload = {\"user_id\": user_id}\n",
    "\n",
    "    # warm‑up (untimed)\n",
    "    for _ in range(warmup):\n",
    "        session.post(url, json=payload)\n",
    "\n",
    "    latencies = []\n",
    "    for _ in range(n_requests):\n",
    "        start = time.perf_counter()\n",
    "        r = session.post(url, json=payload)\n",
    "        if not r.ok:\n",
    "            print(\"Error:\", r.status_code, r.text)\n",
    "            break\n",
    "        latencies.append((time.perf_counter() - start) * 1000)\n",
    "\n",
    "    for pct in (10, 50, 90, 95, 99):\n",
    "        print(f\"P{pct}: {np.percentile(latencies, pct):.2f} ms\")\n",
    "\n",
    "# ── main ────────────────────────────────────────────────────────────\n",
    "if __name__ == \"__main__\":\n",
    "    api_url, uid = get_api_url()\n",
    "    print(\"Testing API Gateway:\", api_url, \"with user_id:\", uid)\n",
    "    measure_latency(api_url, uid, n_requests=100)\n"
   ]
  },
  {
   "cell_type": "code",
   "execution_count": null,
   "metadata": {},
   "outputs": [],
   "source": []
  }
 ],
 "metadata": {
  "kernelspec": {
   "display_name": "llm",
   "language": "python",
   "name": "python3"
  },
  "language_info": {
   "codemirror_mode": {
    "name": "ipython",
    "version": 3
   },
   "file_extension": ".py",
   "mimetype": "text/x-python",
   "name": "python",
   "nbconvert_exporter": "python",
   "pygments_lexer": "ipython3",
   "version": "3.12.9"
  }
 },
 "nbformat": 4,
 "nbformat_minor": 2
}
